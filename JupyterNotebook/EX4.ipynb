{
 "cells": [
  {
   "cell_type": "code",
   "execution_count": 30,
   "id": "fd7c25a0",
   "metadata": {},
   "outputs": [],
   "source": [
    "#对这个练习，将再次处理手写数字数据集，这次使用反向传播的前馈神经网络。\n",
    "#将通过反向传播算法实现神经网络成本函数和梯度计算的非正则化和正则化版本。 还将实现随机权重初始化和使用网络进行预测的方法。\n",
    "import numpy as np\n",
    "import pandas as pd\n",
    "import matplotlib.pyplot as plt\n",
    "from scipy.io import loadmat"
   ]
  },
  {
   "cell_type": "code",
   "execution_count": 35,
   "id": "f96ff7e0",
   "metadata": {},
   "outputs": [
    {
     "data": {
      "text/plain": [
       "{'__header__': b'MATLAB 5.0 MAT-file, Platform: GLNXA64, Created on: Sun Oct 16 13:09:09 2011',\n",
       " '__version__': '1.0',\n",
       " '__globals__': [],\n",
       " 'X': array([[0., 0., 0., ..., 0., 0., 0.],\n",
       "        [0., 0., 0., ..., 0., 0., 0.],\n",
       "        [0., 0., 0., ..., 0., 0., 0.],\n",
       "        ...,\n",
       "        [0., 0., 0., ..., 0., 0., 0.],\n",
       "        [0., 0., 0., ..., 0., 0., 0.],\n",
       "        [0., 0., 0., ..., 0., 0., 0.]]),\n",
       " 'y': array([[10],\n",
       "        [10],\n",
       "        [10],\n",
       "        ...,\n",
       "        [ 9],\n",
       "        [ 9],\n",
       "        [ 9]], dtype=uint8)}"
      ]
     },
     "execution_count": 35,
     "metadata": {},
     "output_type": "execute_result"
    }
   ],
   "source": [
    "data = loadmat('ex4data1.mat')\n",
    "data"
   ]
  },
  {
   "cell_type": "code",
   "execution_count": 36,
   "id": "5528bcb7",
   "metadata": {},
   "outputs": [
    {
     "data": {
      "text/plain": [
       "((5000, 400), (5000, 1))"
      ]
     },
     "execution_count": 36,
     "metadata": {},
     "output_type": "execute_result"
    }
   ],
   "source": [
    "X = data['X']\n",
    "y = data['y']\n",
    "\n",
    "X.shape, y.shape#看下维度"
   ]
  },
  {
   "cell_type": "code",
   "execution_count": 37,
   "id": "4de3af4c",
   "metadata": {},
   "outputs": [
    {
     "data": {
      "text/plain": [
       "(5000, 10)"
      ]
     },
     "execution_count": 37,
     "metadata": {},
     "output_type": "execute_result"
    }
   ],
   "source": [
    "#需要对y标签进行一次one-hot 编码。 \n",
    "#one-hot 编码将类标签n（k类）转换为长度为k的向量，其中索引n为“hot”（1），而其余为0。 \n",
    "#Scikitlearn有一个内置的实用程序，我们可以使用这个。\n",
    "from sklearn.preprocessing import OneHotEncoder\n",
    "encoder = OneHotEncoder(sparse=False)\n",
    "y_onehot = encoder.fit_transform(y)\n",
    "y_onehot.shape"
   ]
  },
  {
   "cell_type": "code",
   "execution_count": 38,
   "id": "9e3e1f01",
   "metadata": {},
   "outputs": [
    {
     "data": {
      "text/plain": [
       "(array([10], dtype=uint8), array([0., 0., 0., 0., 0., 0., 0., 0., 0., 1.]))"
      ]
     },
     "execution_count": 38,
     "metadata": {},
     "output_type": "execute_result"
    }
   ],
   "source": [
    "y[0], y_onehot[0,:]"
   ]
  },
  {
   "cell_type": "code",
   "execution_count": 39,
   "id": "9dc0b787",
   "metadata": {},
   "outputs": [],
   "source": [
    "def sigmoid(z):\n",
    "    return 1 / (1 + np.exp(-z))"
   ]
  },
  {
   "cell_type": "code",
   "execution_count": 56,
   "id": "b7b2ddb2",
   "metadata": {},
   "outputs": [],
   "source": [
    "def forward_propagate(X, theta1, theta2):\n",
    "    # INPUT：参数值theta，数据X\n",
    "    # OUTPUT：当前参数值下前项传播结果\n",
    "    # TODO：根据参数和输入的数据计算前项传播结果\n",
    "    \n",
    "    # STEP1：获取样本个数\n",
    "    # your code here  (appro ~ 1 lines)\n",
    "    m = X.shape[0]\n",
    "   \n",
    "    # STEP2：实现神经网络正向传播\n",
    "    # your code here  (appro ~ 5 lines)    \n",
    "    a1 = np.insert(X,0,values=np.ones(m),axis=1) #给X矩阵插入一行零元素\n",
    "    z2 = a1*theta1.T\n",
    "    a2 = np.insert(sigmoid(z2),0,values=np.ones(m),axis=1)  #注意插入零元素\n",
    "    z3 = a2*theta2.T\n",
    "    h = sigmoid(z3)\n",
    "    \n",
    "    return a1, z2, a2, z3, h"
   ]
  },
  {
   "cell_type": "code",
   "execution_count": 57,
   "id": "dffaf17a",
   "metadata": {},
   "outputs": [],
   "source": [
    "def cost(params, input_size, hidden_size, num_labels, X, y, lamda):\n",
    "    # INPUT：神经网络参数，输入层维度，隐藏层维度，训练数据及标签，正则化参数\n",
    "    # OUTPUT：当前参数值下的代价函数\n",
    "    # TODO：根据上面的公式计算代价函数\n",
    "    \n",
    "    # STEP1：获取样本个数\n",
    "    # your code here  (appro ~ 1 lines)\n",
    "    m = X.shape[0]\n",
    "    \n",
    "    # STEP2：将矩阵X,y转换为numpy型矩阵\n",
    "    # your code here  (appro ~ 2 lines)\n",
    "    X = np.matrix(X)\n",
    "    y = np.matrix(y)\n",
    "    \n",
    "    # STEP3：从params中获取神经网络参数，并按照输入层维度和隐藏层维度重新定义参数的维度\n",
    "    # your code here  (appro ~ 2 lines)\n",
    "    theta1 =  np.matrix(np.reshape(params[:hidden_size * (input_size + 1)], (hidden_size, (input_size + 1))))\n",
    "    theta2 = np.matrix(np.reshape(params[hidden_size * (input_size + 1):], (num_labels, (hidden_size + 1))))\n",
    "    \n",
    "    # STEP4：调用前面写好的前项传播函数\n",
    "    # your code here  (appro ~ 1 lines)\n",
    "    a1, z2, a2, z3, h = forward_propagate(X,theta1,theta2)\n",
    "    \n",
    "    # STEP5：初始化代价函数\n",
    "    # your code here  (appro ~ 1 lines)\n",
    "    J = 0\n",
    "    \n",
    "    # STEP6：根据公式计算代价函数\n",
    "    for i in range(m):  #遍历每个样本\n",
    "        # your code here  (appro ~ 2 lines)\n",
    "        first_term = np.multiply(-y[i,:],np.log(h[i,:]))\n",
    "        second_term = np.multiply((1-y[i,:]),np.log(1-h[i,:]))\n",
    "        J += np.sum(first_term - second_term)\n",
    "    J = J / m\n",
    "    # STEP7：计算代价函数的正则化部分\n",
    "    # your code here  (appro ~ 1 lines)\n",
    "    J += (float(lamda)/(2*m))*(np.sum(np.power(theta1[:,1:],2))+np.sum(np.power(theta2[:,1:],2)))\n",
    "    \n",
    "    return J"
   ]
  },
  {
   "cell_type": "code",
   "execution_count": 58,
   "id": "074d6733",
   "metadata": {},
   "outputs": [
    {
     "data": {
      "text/plain": [
       "((25, 401), (10, 26))"
      ]
     },
     "execution_count": 58,
     "metadata": {},
     "output_type": "execute_result"
    }
   ],
   "source": [
    "# 初始化设置\n",
    "input_size = 400\n",
    "hidden_size = 25\n",
    "num_labels = 10\n",
    "lamda = 1\n",
    "\n",
    "# 随机初始化完整网络参数大小的参数数组\n",
    "params = (np.random.random(size=hidden_size * (input_size + 1) + num_labels * (hidden_size + 1)) - 0.5) * 0.25\n",
    "\n",
    "m = X.shape[0]\n",
    "X = np.matrix(X)\n",
    "y = np.matrix(y)\n",
    "\n",
    "# 将参数数组解开为每个层的参数矩阵\n",
    "theta1 = np.matrix(np.reshape(params[:hidden_size * (input_size + 1)], (hidden_size, (input_size + 1))))\n",
    "theta2 = np.matrix(np.reshape(params[hidden_size * (input_size + 1):], (num_labels, (hidden_size + 1))))\n",
    "\n",
    "theta1.shape, theta2.shape"
   ]
  },
  {
   "cell_type": "code",
   "execution_count": 59,
   "id": "5b627d2c",
   "metadata": {},
   "outputs": [
    {
     "data": {
      "text/plain": [
       "((5000, 401), (5000, 25), (5000, 26), (5000, 10), (5000, 10))"
      ]
     },
     "execution_count": 59,
     "metadata": {},
     "output_type": "execute_result"
    }
   ],
   "source": [
    "a1, z2, a2, z3, h = forward_propagate(X, theta1, theta2)\n",
    "a1.shape, z2.shape, a2.shape, z3.shape, h.shape"
   ]
  },
  {
   "cell_type": "code",
   "execution_count": 60,
   "id": "c73fb758",
   "metadata": {},
   "outputs": [
    {
     "data": {
      "text/plain": [
       "6.997520673376277"
      ]
     },
     "execution_count": 60,
     "metadata": {},
     "output_type": "execute_result"
    }
   ],
   "source": [
    "cost(params, input_size, hidden_size, num_labels, X, y_onehot, lamda)"
   ]
  },
  {
   "cell_type": "code",
   "execution_count": 61,
   "id": "fb5f7e73",
   "metadata": {},
   "outputs": [],
   "source": [
    "def sigmoid_gradient(z):\n",
    "    return np.multiply(sigmoid(z), (1 - sigmoid(z)))"
   ]
  },
  {
   "cell_type": "code",
   "execution_count": 76,
   "id": "c1d92dfd",
   "metadata": {},
   "outputs": [],
   "source": [
    "def backprop(params, input_size, hidden_size, num_labels, X, y, lamda):\n",
    "    # INPUT：神经网络参数，输入层维度，隐藏层维度，训练数据及标签，正则化参数\n",
    "    # OUTPUT：当前参数值下的代价函数\n",
    "    # TODO：根据上面的公式计算代价函数\n",
    "    \n",
    "    # STEP1：获取样本个数\n",
    "    # your code here  (appro ~ 1 lines)\n",
    "    m = X.shape[0]\n",
    "    \n",
    "    # STEP2：将矩阵X,y转换为numpy型矩阵\n",
    "    # your code here  (appro ~ 2 lines)\n",
    "    X = np.matrix(X)\n",
    "    y = np.matrix(y)\n",
    "    \n",
    "    # STEP3：从params中获取神经网络参数，并按照输入层维度和隐藏层维度重新定义参数的维度\n",
    "    # your code here  (appro ~ 2 lines)\n",
    "    theta1 = np.matrix(np.reshape(params[:hidden_size * (input_size + 1)], (hidden_size, (input_size + 1))))\n",
    "    theta2 = np.matrix(np.reshape(params[hidden_size * (input_size + 1):], (num_labels, (hidden_size + 1))))\n",
    "    \n",
    "    # STEP4：调用前面写好的前项传播函数\n",
    "    # your code here  (appro ~ 1 lines)\n",
    "    a1, z2, a2, z3, h = forward_propagate(X,theta1,theta2)\n",
    "    \n",
    "    # STEP5：初始化\n",
    "    # your code here  (appro ~ 3 lines)\n",
    "    J = 0\n",
    "    delta1 = np.zeros(theta1.shape)#(25,401)\n",
    "    delta2 = np.zeros(theta2.shape)#(10,26)\n",
    "    \n",
    "    # STEP6：计算代价函数(调用函数)\n",
    "    # your code here  (appro ~ 1 lines)\n",
    "    for i in range(m):\n",
    "        first_term=np.multiply(-y[i,:],np.log(h[i,:]))\n",
    "        second_term=np.multiply((1-y[i,:]),np.log(1-h[i,:]))\n",
    "        J +=np.sum(first_term-second_term)\n",
    "    J = J / m\n",
    "    \n",
    "    # STEP7：实现反向传播（这里用到的公式请参考原版作业PDF的第5页）\n",
    "    for t in range(m):  #遍历每个样本\n",
    "        a1t = a1[t,:]  # (1, 401)\n",
    "        z2t = z2[t,:]  # (1, 25)\n",
    "        a2t = a2[t,:]  # (1, 26)\n",
    "        ht = h[t,:]  # (1, 10)\n",
    "        yt = y[t,:]  # (1, 10)\n",
    "        \n",
    "        # your code here  (appro ~ 5 lines)\n",
    "        d3t = ht - yt\n",
    "        z2t = np.insert(z2t,0,values=np.ones(1))#(1,26)\n",
    "        d2t = np.multiply((theta2.T*d3t.T).T,sigmoid_gradient(z2t))\n",
    "        delta1 = delta1+(d2t[:,1:]).T*a1t\n",
    "        delta2 = delta2+d3t.T*a2t\n",
    "    \n",
    "    # STEP8：加入正则化\n",
    "    # your code here  (appro ~ 1 lines)\n",
    "    delta1[:,1:] = delta1[:,1:]+(theta1[:,1:]*lamda)/m\n",
    "    delta2[:,1:] = delta2[:,1:]+(theta2[:,1:]*lamda)/m  \n",
    "    \n",
    "    # STEP9：将梯度矩阵转换为单个数组\n",
    "    grad = np.concatenate((np.ravel(delta1), np.ravel(delta2)))\n",
    "    \n",
    "    return J, grad"
   ]
  },
  {
   "cell_type": "code",
   "execution_count": 77,
   "id": "410a5e5e",
   "metadata": {},
   "outputs": [
    {
     "data": {
      "text/plain": [
       "(6.992190853848363, (10285,))"
      ]
     },
     "execution_count": 77,
     "metadata": {},
     "output_type": "execute_result"
    }
   ],
   "source": [
    "J, grad = backprop(params, input_size, hidden_size, num_labels, X, y_onehot, learning_rate)\n",
    "J, grad.shape"
   ]
  },
  {
   "cell_type": "code",
   "execution_count": 85,
   "id": "b50f2064",
   "metadata": {},
   "outputs": [
    {
     "data": {
      "text/plain": [
       " message: Max. number of function evaluations reached\n",
       " success: False\n",
       "  status: 3\n",
       "     fun: 3.177510836808159\n",
       "       x: [-6.811e-02 -4.508e-02 ... -1.364e-01 -3.482e-02]\n",
       "     nit: 2\n",
       "     jac: [ 8.062e+00 -9.017e-08 ... -4.195e+01 -8.729e+01]\n",
       "    nfev: 26"
      ]
     },
     "execution_count": 85,
     "metadata": {},
     "output_type": "execute_result"
    }
   ],
   "source": [
    "from scipy.optimize import minimize\n",
    "\n",
    "# minimize the objective function\n",
    "fmin = minimize(fun=backprop, x0=params, args=(input_size, hidden_size, num_labels, X, y_onehot, learning_rate), \n",
    "                method='TNC', jac=True, options={'maxfun': 25})\n",
    "fmin"
   ]
  },
  {
   "cell_type": "code",
   "execution_count": 82,
   "id": "c89b0a5c",
   "metadata": {},
   "outputs": [
    {
     "data": {
      "text/plain": [
       "array([[6],\n",
       "       [6],\n",
       "       [6],\n",
       "       ...,\n",
       "       [9],\n",
       "       [9],\n",
       "       [9]], dtype=int64)"
      ]
     },
     "execution_count": 82,
     "metadata": {},
     "output_type": "execute_result"
    }
   ],
   "source": [
    "X = np.matrix(X)\n",
    "theta1 = np.matrix(np.reshape(fmin.x[:hidden_size * (input_size + 1)], (hidden_size, (input_size + 1))))\n",
    "theta2 = np.matrix(np.reshape(fmin.x[hidden_size * (input_size + 1):], (num_labels, (hidden_size + 1))))\n",
    "\n",
    "a1, z2, a2, z3, h = forward_propagate(X, theta1, theta2)\n",
    "y_pred = np.array(np.argmax(h, axis=1) + 1)\n",
    "y_pred"
   ]
  },
  {
   "cell_type": "code",
   "execution_count": 83,
   "id": "79c5c40d",
   "metadata": {},
   "outputs": [
    {
     "name": "stdout",
     "output_type": "stream",
     "text": [
      "accuracy = 19.439999999999998%\n"
     ]
    }
   ],
   "source": [
    "correct = [1 if a == b else 0 for (a, b) in zip(y_pred, y)]\n",
    "accuracy = (sum(map(int, correct)) / float(len(correct)))\n",
    "print ('accuracy = {0}%'.format(accuracy * 100))"
   ]
  }
 ],
 "metadata": {
  "kernelspec": {
   "display_name": "Python 3 (ipykernel)",
   "language": "python",
   "name": "python3"
  },
  "language_info": {
   "codemirror_mode": {
    "name": "ipython",
    "version": 3
   },
   "file_extension": ".py",
   "mimetype": "text/x-python",
   "name": "python",
   "nbconvert_exporter": "python",
   "pygments_lexer": "ipython3",
   "version": "3.11.3"
  }
 },
 "nbformat": 4,
 "nbformat_minor": 5
}
