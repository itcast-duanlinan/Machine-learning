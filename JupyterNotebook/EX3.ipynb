{
 "cells": [
  {
   "cell_type": "code",
   "execution_count": 1,
   "id": "be7fbd66",
   "metadata": {},
   "outputs": [],
   "source": [
    "#此练习，我们将使用逻辑回归来识别手写数字（0到9）。 我们将扩展我们在练习2中写的逻辑回归的实现，\n",
    "#并将其应用于一对一的分类。 让我们开始加载数据集。 它是在MATLAB的本机格式，所以要加载它在Python，我们需要使用一个SciPy工具。\n",
    "import numpy as np\n",
    "import pandas as pd\n",
    "import matplotlib.pyplot as plt\n",
    "from scipy.io import loadmat"
   ]
  },
  {
   "cell_type": "code",
   "execution_count": 2,
   "id": "d280ec77",
   "metadata": {},
   "outputs": [
    {
     "data": {
      "text/plain": [
       "{'__header__': b'MATLAB 5.0 MAT-file, Platform: GLNXA64, Created on: Sun Oct 16 13:09:09 2011',\n",
       " '__version__': '1.0',\n",
       " '__globals__': [],\n",
       " 'X': array([[0., 0., 0., ..., 0., 0., 0.],\n",
       "        [0., 0., 0., ..., 0., 0., 0.],\n",
       "        [0., 0., 0., ..., 0., 0., 0.],\n",
       "        ...,\n",
       "        [0., 0., 0., ..., 0., 0., 0.],\n",
       "        [0., 0., 0., ..., 0., 0., 0.],\n",
       "        [0., 0., 0., ..., 0., 0., 0.]]),\n",
       " 'y': array([[10],\n",
       "        [10],\n",
       "        [10],\n",
       "        ...,\n",
       "        [ 9],\n",
       "        [ 9],\n",
       "        [ 9]], dtype=uint8)}"
      ]
     },
     "execution_count": 2,
     "metadata": {},
     "output_type": "execute_result"
    }
   ],
   "source": [
    "data = loadmat('ex3data1.mat')#加载数据\n",
    "data"
   ]
  },
  {
   "cell_type": "code",
   "execution_count": 3,
   "id": "a1cee68a",
   "metadata": {},
   "outputs": [
    {
     "data": {
      "text/plain": [
       "((5000, 400), (5000, 1))"
      ]
     },
     "execution_count": 3,
     "metadata": {},
     "output_type": "execute_result"
    }
   ],
   "source": [
    "data['X'].shape, data['y'].shape#y是标签，x是特征"
   ]
  },
  {
   "cell_type": "code",
   "execution_count": 4,
   "id": "f40e4606",
   "metadata": {},
   "outputs": [],
   "source": [
    "#已经加载了数据。图像在martix X中表示为400维向量（其中有5,000个）。 400维“特征”是原始20 x 20图像中每个像素的灰度强度。\n",
    "#类标签在向量y中作为表示图像中数字的数字类。\n",
    "#第一个任务是将逻辑回归实现修改为完全向量化（即没有“for”循环）。这是因为向量化代码除了简洁外，还能够利用线性代数优化。\n",
    "#并且通常比迭代代码快得多。但是，如果从练习2中看到我们的代价函数已经完全向量化实现了，所以我们可以在这里重复使用相同的实现。"
   ]
  },
  {
   "cell_type": "code",
   "execution_count": 7,
   "id": "dad8b5b8",
   "metadata": {},
   "outputs": [],
   "source": [
    "def sigmoid(z):\n",
    "    return 1 / (1 + np.exp(-z))#可以通过np.matrix()函数将一个变量转换为numpy型矩阵"
   ]
  },
  {
   "cell_type": "code",
   "execution_count": 9,
   "id": "a8b7095b",
   "metadata": {},
   "outputs": [],
   "source": [
    "def cost(theta, X, y, learningRate):\n",
    "    # INPUT：参数值theta，数据X，标签y，学习率\n",
    "    # OUTPUT：当前参数值下的交叉熵损失\n",
    "    # TODO：根据参数和输入的数据计算交叉熵损失函数\n",
    "    \n",
    "    # STEP1：将theta, X, y转换为numpy类型的矩阵\n",
    "    theta =np.matrix(theta)\n",
    "    X = np.matrix(X)\n",
    "    y = np.matrix(y)\n",
    "    \n",
    "    # STEP2：根据公式计算损失函数（不含正则化）\n",
    "    cross_cost =np.multiply(-y, np.log(sigmoid(X * theta.T)))-np.multiply((1 - y), np.log(1 - sigmoid(X * theta.T)))\n",
    "   \n",
    "    # STEP3：根据公式计算损失函数中的正则化部分\n",
    "    reg =  (learningRate / (2 * len(X))) * np.sum(np.power(theta[:,1:theta.shape[1]], 2))#正则项\n",
    "   \n",
    "    # STEP4：把上两步当中的结果加起来得到整体损失函数\n",
    "    whole_cost=np.sum(cross_cost)/len(X)+reg#len（X）相当于样本个数，做一个平均\n",
    "    \n",
    "    return whole_cost"
   ]
  },
  {
   "cell_type": "code",
   "execution_count": 10,
   "id": "0e57ce5a",
   "metadata": {},
   "outputs": [],
   "source": [
    "#向量化的梯度函数，.T代表转置\n",
    "def gradient(theta, X, y, learningRate):\n",
    "    # INPUT：参数值theta，数据X，标签y，学习率\n",
    "    # OUTPUT：当前参数值下的梯度\n",
    "    # TODO：根据参数和输入的数据计算梯度\n",
    "    \n",
    "    # STEP1：将theta, X, y转换为numpy类型的矩阵\n",
    "    theta = np.matrix(theta)\n",
    "    X = np.matrix(X)\n",
    "    y = np.matrix(y)\n",
    "    \n",
    "    # STEP2：将theta矩阵拉直（转换为一个向量）\n",
    "    parameters =int(theta.ravel().shape[1])#theta数量\n",
    "    \n",
    "    # STEP3：计算预测的误差   \n",
    "    error = sigmoid(X * theta.T) - y\n",
    "    \n",
    "    # STEP4：根据上面的公式计算梯度\n",
    "    grad = ((X.T * error) / len(X)).T + ((learningRate / len(X)) * theta)\n",
    "    \n",
    "    # STEP5：由于j=0时不需要正则化，所以这里重置一下\n",
    "    grad[0, 0] = np.sum(np.multiply(error, X[:,0])) / len(X)\n",
    "    \n",
    "    return np.array(grad).ravel()"
   ]
  },
  {
   "cell_type": "code",
   "execution_count": 11,
   "id": "ef6b8d78",
   "metadata": {},
   "outputs": [],
   "source": [
    "#现在已经定义了代价函数和梯度函数，是构建分类器的时候了。 有10个可能的类，并且由于逻辑回归只能一次在2个类之间进行分类，需要多类分类的策略。\n",
    "#任务是实现一对一全分类方法，其中具有k个不同类的标签就有k个分类器，每个分类器在“类别 i”和“不是 i”之间决定。 \n",
    "#将把分类器训练包含在一个函数中，该函数计算10个分类器中的每个分类器的最终权重，并将权重返回为k X（n + 1）数组，其中n是参数数量。\n",
    "from scipy.optimize import minimize\n",
    "\n",
    "def one_vs_all(X, y, num_labels, learning_rate):\n",
    "    rows = X.shape[0]\n",
    "    params = X.shape[1]\n",
    "    \n",
    "    # k X (n + 1) array for the parameters of each of the k classifiers\n",
    "    all_theta = np.zeros((num_labels, params + 1))\n",
    "    \n",
    "    # insert a column of ones at the beginning for the intercept term\n",
    "    X = np.insert(X, 0, values=np.ones(rows), axis=1)\n",
    "    \n",
    "    # labels are 1-indexed instead of 0-indexed\n",
    "    for i in range(1, num_labels + 1):\n",
    "        theta = np.zeros(params + 1)\n",
    "        y_i = np.array([1 if label == i else 0 for label in y])\n",
    "        y_i = np.reshape(y_i, (rows, 1))\n",
    "        \n",
    "        # minimize the objective function\n",
    "        fmin = minimize(fun=cost, x0=theta, args=(X, y_i, learning_rate), method='TNC', jac=gradient)\n",
    "        all_theta[i-1,:] = fmin.x\n",
    "    \n",
    "    return all_theta"
   ]
  },
  {
   "cell_type": "code",
   "execution_count": 12,
   "id": "a19f8570",
   "metadata": {},
   "outputs": [
    {
     "data": {
      "text/plain": [
       "((5000, 401), (5000, 1), (401,), (10, 401))"
      ]
     },
     "execution_count": 12,
     "metadata": {},
     "output_type": "execute_result"
    }
   ],
   "source": [
    "rows = data['X'].shape[0]\n",
    "params = data['X'].shape[1]\n",
    "\n",
    "all_theta = np.zeros((10, params + 1))\n",
    "\n",
    "X = np.insert(data['X'], 0, values=np.ones(rows), axis=1)\n",
    "\n",
    "theta = np.zeros(params + 1)\n",
    "\n",
    "y_0 = np.array([1 if label == 0 else 0 for label in data['y']])\n",
    "y_0 = np.reshape(y_0, (rows, 1))\n",
    "\n",
    "X.shape, y_0.shape, theta.shape, all_theta.shape"
   ]
  },
  {
   "cell_type": "code",
   "execution_count": 13,
   "id": "5b19fd65",
   "metadata": {},
   "outputs": [
    {
     "data": {
      "text/plain": [
       "array([ 1,  2,  3,  4,  5,  6,  7,  8,  9, 10], dtype=uint8)"
      ]
     },
     "execution_count": 13,
     "metadata": {},
     "output_type": "execute_result"
    }
   ],
   "source": [
    "np.unique(data['y'])#看下有几类标签"
   ]
  },
  {
   "cell_type": "code",
   "execution_count": 14,
   "id": "adc7ae3e",
   "metadata": {},
   "outputs": [
    {
     "data": {
      "text/plain": [
       "array([[-2.38280215e+00,  0.00000000e+00,  0.00000000e+00, ...,\n",
       "         1.30424698e-03, -7.17025128e-10,  0.00000000e+00],\n",
       "       [-3.18403182e+00,  0.00000000e+00,  0.00000000e+00, ...,\n",
       "         4.45919625e-03, -5.08397686e-04,  0.00000000e+00],\n",
       "       [-4.79873344e+00,  0.00000000e+00,  0.00000000e+00, ...,\n",
       "        -2.87102343e-05, -2.48777984e-07,  0.00000000e+00],\n",
       "       ...,\n",
       "       [-7.98425629e+00,  0.00000000e+00,  0.00000000e+00, ...,\n",
       "        -8.94038795e-05,  7.20955711e-06,  0.00000000e+00],\n",
       "       [-4.57331493e+00,  0.00000000e+00,  0.00000000e+00, ...,\n",
       "        -1.33639371e-03,  9.99383654e-05,  0.00000000e+00],\n",
       "       [-5.40434738e+00,  0.00000000e+00,  0.00000000e+00, ...,\n",
       "        -1.16605966e-04,  7.88388836e-06,  0.00000000e+00]])"
      ]
     },
     "execution_count": 14,
     "metadata": {},
     "output_type": "execute_result"
    }
   ],
   "source": [
    "all_theta = one_vs_all(data['X'], data['y'], 10, 1)\n",
    "all_theta"
   ]
  },
  {
   "cell_type": "code",
   "execution_count": 15,
   "id": "c4cb1bbd",
   "metadata": {},
   "outputs": [],
   "source": [
    "#现在准备好最后一步 - 使用训练完毕的分类器预测每个图像的标签。 \n",
    "#对于这一步，将计算每个类的类概率，对于每个训练样本（使用当然的向量化代码），并将输出类标签为具有最高概率的类。\n",
    "#可以使用np.argmax()函数找到矩阵中指定维度的最大值\n",
    "def predict_all(X, all_theta):\n",
    "    # INPUT：参数值theta，测试数据X\n",
    "    # OUTPUT：预测值\n",
    "    # TODO：对测试数据进行预测\n",
    "    \n",
    "    # STEP1：获取矩阵的维度信息\n",
    "    rows = X.shape[0]\n",
    "    params = X.shape[1]\n",
    "    num_labels = all_theta.shape[0]\n",
    "    \n",
    "    # STEP2：把矩阵X加入一行零元素\n",
    "    X = np.insert(X, 0, values=np.ones(rows), axis=1)\n",
    "    \n",
    "    # STEP3：把矩阵X和all_theta转换为numpy型矩阵\n",
    "    X = np.matrix(X)\n",
    "    all_theta = np.matrix(all_theta)\n",
    "    \n",
    "    # STEP4：计算样本属于每一类的概率\n",
    "    h = sigmoid(X * all_theta.T)\n",
    "    \n",
    "    # STEP5：找到每个样本中预测概率最大的值\n",
    "    h_argmax = np.argmax(h, axis=1)\n",
    "    \n",
    "    # STEP6：因为我们的数组是零索引的，所以我们需要为真正的标签+1\n",
    "    h_argmax = h_argmax + 1\n",
    "    \n",
    "    return h_argmax"
   ]
  },
  {
   "cell_type": "code",
   "execution_count": 16,
   "id": "9c85b9aa",
   "metadata": {},
   "outputs": [
    {
     "name": "stdout",
     "output_type": "stream",
     "text": [
      "accuracy = 94.46%\n"
     ]
    }
   ],
   "source": [
    "y_pred = predict_all(data['X'], all_theta)\n",
    "correct = [1 if a == b else 0 for (a, b) in zip(y_pred, data['y'])]\n",
    "accuracy = (sum(map(int, correct)) / float(len(correct)))\n",
    "print ('accuracy = {0}%'.format(accuracy * 100))"
   ]
  }
 ],
 "metadata": {
  "kernelspec": {
   "display_name": "Python 3 (ipykernel)",
   "language": "python",
   "name": "python3"
  },
  "language_info": {
   "codemirror_mode": {
    "name": "ipython",
    "version": 3
   },
   "file_extension": ".py",
   "mimetype": "text/x-python",
   "name": "python",
   "nbconvert_exporter": "python",
   "pygments_lexer": "ipython3",
   "version": "3.11.3"
  }
 },
 "nbformat": 4,
 "nbformat_minor": 5
}
